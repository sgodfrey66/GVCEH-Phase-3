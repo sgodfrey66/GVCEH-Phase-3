{
 "cells": [
  {
   "cell_type": "markdown",
   "id": "cd372914",
   "metadata": {},
   "source": [
    "# Summary\n",
    "\n",
    "Test the Reddit data collection class\n"
   ]
  },
  {
   "cell_type": "markdown",
   "id": "6214bf96",
   "metadata": {},
   "source": [
    "## Import libraries"
   ]
  },
  {
   "cell_type": "code",
   "execution_count": 4,
   "id": "68cbc798",
   "metadata": {},
   "outputs": [],
   "source": [
    "import os, sys\n",
    "import pandas as pd\n",
    "\n",
    "# Environmental variables\n",
    "import dotenv\n",
    "\n",
    "import pickle\n",
    "\n",
    "# Reddit class\n",
    "xtwitter_class_path = '../../../code/xtwitter'\n",
    "sys.path.insert(0, xtwitter_class_path)\n",
    "import x_twitter_data_fetcher as xtdf\n",
    "\n"
   ]
  },
  {
   "cell_type": "markdown",
   "id": "bdaff3fe",
   "metadata": {},
   "source": [
    "## Review the queries"
   ]
  },
  {
   "cell_type": "code",
   "execution_count": 5,
   "id": "4061a0f0",
   "metadata": {},
   "outputs": [],
   "source": [
    "query_file_path = \"../../../data/xtwitter/queries\"\n",
    "query_cache_file = \"querylist.pkl\"\n",
    "with open(os.path.join(query_file_path, query_cache_file), \"rb\") as f:\n",
    "    query_cache = pickle.load(f)\n",
    "    "
   ]
  },
  {
   "cell_type": "code",
   "execution_count": 8,
   "id": "5ad5108a",
   "metadata": {},
   "outputs": [
    {
     "name": "stdout",
     "output_type": "stream",
     "text": [
      "('(900-block pandora avenue OR esquimalt OR highlands OR metchosin OR pacheedaht OR saanich OR sooke OR vic west) (aboriginal coalition to end homelessness OR our place society OR victoria native friendship centre OR island health OR united way southern vancouver island OR greater victoria acting together OR victoria foundation OR aechr OR pacifica housing OR umbrella society OR unhoused OR crime) lang:en -is:retweet', '900-block pandora avenue OR esquimalt OR highlands OR metchosin OR pacheedaht OR saanich OR sooke OR vic west') \n",
      "\n",
      "('(900-block pandora avenue OR esquimalt OR highlands OR metchosin OR pacheedaht OR saanich OR sooke OR vic west) (aceh OR pacifica housing OR victoria police department OR makola housing society OR vancouver island mental health society OR greater victoria placemaking network OR tourism vancouver island OR alliance to end homelessness in the capital region OR salvation army OR victoria native friendship centre OR violence OR drugs) lang:en -is:retweet', '900-block pandora avenue OR esquimalt OR highlands OR metchosin OR pacheedaht OR saanich OR sooke OR vic west') \n",
      "\n"
     ]
    }
   ],
   "source": [
    "for q in query_cache[:2]:\n",
    "    print(q, '\\n')"
   ]
  },
  {
   "cell_type": "markdown",
   "id": "e57cdd28",
   "metadata": {},
   "source": [
    "## Test XTwitter scraper class"
   ]
  },
  {
   "cell_type": "code",
   "execution_count": 12,
   "id": "a39dd7b6",
   "metadata": {},
   "outputs": [
    {
     "data": {
      "text/plain": [
       "True"
      ]
     },
     "execution_count": 12,
     "metadata": {},
     "output_type": "execute_result"
    }
   ],
   "source": [
    "dotenv.load_dotenv('../../../data/environment/.env')"
   ]
  },
  {
   "cell_type": "code",
   "execution_count": 13,
   "id": "fc537006",
   "metadata": {},
   "outputs": [
    {
     "name": "stdout",
     "output_type": "stream",
     "text": [
      "time: 2024-02-15 14:22:37: event: start fetch: source: xtwitter\n",
      "time: 2024-02-15 14:23:25: event: fetch complete\n"
     ]
    }
   ],
   "source": [
    "query_file_path = \"../../../data/xtwitter/queries\"\n",
    "tweets_file_path = \"../../data_tests/xtwitter_tests/tweets\"\n",
    "logs_file_path = \"../../data_tests/xtwitter_tests/logs\"\n",
    "max_tweets=10\n",
    "\n",
    "\n",
    "# Initialize Reddit object\n",
    "data_fetcher = xtdf.GVCEHXTwitter(bearer_token=os.environ.get(\"TWITTER_BEARER_TOKEN\"),\n",
    "                                  consumer_key=os.environ.get(\"TWITTER_CONSUMER_KEY\"),\n",
    "                                  consumer_secret=os.environ.get(\"TWITTER_CONSUMER_SECRET\"),\n",
    "                                  access_token=os.environ.get(\"TWITTER_ACCESS_TOKEN\"),\n",
    "                                  access_token_secret=os.environ.get(\"TWITTER_ACCESS_TOKEN_SECRET\"),\n",
    "                                  query_file_path=query_file_path,\n",
    "                                  tweets_file_path=tweets_file_path,\n",
    "                                  logs_file_path=logs_file_path,\n",
    "                                  max_tweets=max_tweets)\n",
    "\n",
    "data_fetcher.batch_scrape()\n"
   ]
  },
  {
   "cell_type": "code",
   "execution_count": null,
   "id": "cac4c580",
   "metadata": {},
   "outputs": [],
   "source": []
  },
  {
   "cell_type": "code",
   "execution_count": null,
   "id": "d6198add",
   "metadata": {},
   "outputs": [],
   "source": []
  },
  {
   "cell_type": "code",
   "execution_count": null,
   "id": "f5f44530",
   "metadata": {},
   "outputs": [],
   "source": []
  }
 ],
 "metadata": {
  "kernelspec": {
   "display_name": "Python 3 (ipykernel)",
   "language": "python",
   "name": "python3"
  },
  "language_info": {
   "codemirror_mode": {
    "name": "ipython",
    "version": 3
   },
   "file_extension": ".py",
   "mimetype": "text/x-python",
   "name": "python",
   "nbconvert_exporter": "python",
   "pygments_lexer": "ipython3",
   "version": "3.10.13"
  }
 },
 "nbformat": 4,
 "nbformat_minor": 5
}
