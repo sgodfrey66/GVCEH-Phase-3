{
 "cells": [
  {
   "cell_type": "markdown",
   "id": "3d0cd15e-824e-476b-b389-57747f95347a",
   "metadata": {},
   "source": [
    "# Summary\n",
    "\n",
    "Test reading post/tweet data from GCP Cloud Storage."
   ]
  },
  {
   "cell_type": "markdown",
   "id": "b54d7d5e-6d6c-4a9d-85cd-a0fb4b5321ec",
   "metadata": {},
   "source": [
    "## Import libraries\n"
   ]
  },
  {
   "cell_type": "code",
   "execution_count": 1,
   "id": "ba137760-ab93-4f8c-aae2-a0db9054abb4",
   "metadata": {
    "execution": {
     "iopub.execute_input": "2024-03-14T20:52:10.418956Z",
     "iopub.status.busy": "2024-03-14T20:52:10.417534Z",
     "iopub.status.idle": "2024-03-14T20:52:11.203676Z",
     "shell.execute_reply": "2024-03-14T20:52:11.203290Z",
     "shell.execute_reply.started": "2024-03-14T20:52:10.418804Z"
    }
   },
   "outputs": [],
   "source": [
    "import os, sys\n",
    "import pandas as pd\n",
    "\n",
    "from google.cloud import storage\n"
   ]
  },
  {
   "cell_type": "markdown",
   "id": "4ea4d394-39c9-46c5-b794-96b3a7a89410",
   "metadata": {},
   "source": [
    "## Read data"
   ]
  },
  {
   "cell_type": "code",
   "execution_count": 5,
   "id": "3dd958c3-056a-4e99-a427-aa937f24b460",
   "metadata": {
    "execution": {
     "iopub.execute_input": "2024-03-14T20:54:44.886966Z",
     "iopub.status.busy": "2024-03-14T20:54:44.886203Z",
     "iopub.status.idle": "2024-03-14T20:54:44.892825Z",
     "shell.execute_reply": "2024-03-14T20:54:44.891802Z",
     "shell.execute_reply.started": "2024-03-14T20:54:44.886908Z"
    },
    "tags": []
   },
   "outputs": [],
   "source": [
    "project_id = \"npaicivitas\"\n",
    "bucket_name = \"gvceh-03a-storage\"\n",
    "    \n",
    "    "
   ]
  },
  {
   "cell_type": "code",
   "execution_count": null,
   "id": "c852d6c7-29fd-4761-97f4-47bb79d98818",
   "metadata": {},
   "outputs": [],
   "source": [
    "## Instantiate the storage client\n",
    "# Note that the post/tweet data on GCP are currently publically available\n",
    "# which means we don't need to present credentials to read them\n"
   ]
  },
  {
   "cell_type": "code",
   "execution_count": 6,
   "id": "6dd9cb71-b614-4b12-801c-18ab38bb8099",
   "metadata": {
    "execution": {
     "iopub.execute_input": "2024-03-14T20:54:45.638421Z",
     "iopub.status.busy": "2024-03-14T20:54:45.637535Z",
     "iopub.status.idle": "2024-03-14T20:54:45.653828Z",
     "shell.execute_reply": "2024-03-14T20:54:45.653040Z",
     "shell.execute_reply.started": "2024-03-14T20:54:45.638365Z"
    },
    "tags": []
   },
   "outputs": [],
   "source": [
    "storage_client = storage.Client(project=project_id)"
   ]
  },
  {
   "cell_type": "code",
   "execution_count": 7,
   "id": "cdc2235e-d0a5-4a1c-9ac4-8b6da818dad4",
   "metadata": {
    "execution": {
     "iopub.execute_input": "2024-03-14T20:55:20.990822Z",
     "iopub.status.busy": "2024-03-14T20:55:20.989196Z",
     "iopub.status.idle": "2024-03-14T20:55:21.737382Z",
     "shell.execute_reply": "2024-03-14T20:55:21.735576Z",
     "shell.execute_reply.started": "2024-03-14T20:55:20.990761Z"
    }
   },
   "outputs": [],
   "source": [
    "file_list = storage_client.list_blobs(bucket_or_name=bucket_name)\n",
    "file_list_names = [file.name for file in file_list]\n",
    "    "
   ]
  },
  {
   "cell_type": "markdown",
   "id": "c01cb018-bab5-4396-a263-055800cb1482",
   "metadata": {},
   "source": [
    "## Look at file names\n",
    "Note logs may be out of date\n"
   ]
  },
  {
   "cell_type": "code",
   "execution_count": 8,
   "id": "4ef0f078-2c5a-4bd6-be32-56b467aaabe7",
   "metadata": {
    "execution": {
     "iopub.execute_input": "2024-03-14T20:55:26.476859Z",
     "iopub.status.busy": "2024-03-14T20:55:26.475989Z",
     "iopub.status.idle": "2024-03-14T20:55:26.488705Z",
     "shell.execute_reply": "2024-03-14T20:55:26.488137Z",
     "shell.execute_reply.started": "2024-03-14T20:55:26.476797Z"
    }
   },
   "outputs": [
    {
     "data": {
      "text/plain": [
       "['keywords/',\n",
       " 'keywords/hashtags_other.csv',\n",
       " 'keywords/keywords.csv',\n",
       " 'reddit/',\n",
       " 'reddit/logs/',\n",
       " 'reddit/logs/Esquimalt_logfile.log',\n",
       " 'reddit/logs/Metchosin_logfile.log',\n",
       " 'reddit/logs/OakBayBritishColumbia_logfile.log',\n",
       " 'reddit/logs/SaanichPeninsula_logfile.log',\n",
       " 'reddit/logs/SidneyBC_logfile.log',\n",
       " 'reddit/logs/Sooke_logfile.log',\n",
       " 'reddit/logs/VancouverIsland_logfile.log',\n",
       " 'reddit/logs/WestShoreBC_logfile.log',\n",
       " 'reddit/logs/britishcolumbia_logfile.log',\n",
       " 'reddit/logs/reddit_posts_logfile.log',\n",
       " 'reddit/logs/saltspring_logfile.log',\n",
       " 'reddit/logs/uvic_logfile.log',\n",
       " 'reddit/posts/',\n",
       " 'reddit/posts/Esquimalt_posts_data.csv',\n",
       " 'reddit/posts/Metchosin_posts_data.csv',\n",
       " 'reddit/posts/OakBayBritishColumbia_posts_data.csv',\n",
       " 'reddit/posts/SaanichPeninsula_posts_data.csv',\n",
       " 'reddit/posts/SidneyBC_posts_data.csv',\n",
       " 'reddit/posts/Sooke_posts_data.csv',\n",
       " 'reddit/posts/VancouverIsland_posts_data.csv',\n",
       " 'reddit/posts/WestShoreBC_posts_data.csv',\n",
       " 'reddit/posts/britishcolumbia_posts_data.csv',\n",
       " 'reddit/posts/reddit_posts.csv',\n",
       " 'reddit/posts/saltspring_posts_data.csv',\n",
       " 'reddit/posts/uvic_posts_data.csv',\n",
       " 'xtwitter/',\n",
       " 'xtwitter/logs/',\n",
       " 'xtwitter/tweets/',\n",
       " 'xtwitter/tweets/xtwitter_tweets.csv']"
      ]
     },
     "execution_count": 8,
     "metadata": {},
     "output_type": "execute_result"
    }
   ],
   "source": [
    "file_list_names"
   ]
  },
  {
   "cell_type": "markdown",
   "id": "d4231d4a-a5db-4a7f-bc82-cda14397862e",
   "metadata": {},
   "source": [
    "## Read data"
   ]
  },
  {
   "cell_type": "code",
   "execution_count": 24,
   "id": "d5b19fb4-9c53-427e-aaaf-b34671814804",
   "metadata": {
    "execution": {
     "iopub.execute_input": "2024-03-14T21:23:03.167327Z",
     "iopub.status.busy": "2024-03-14T21:23:03.166034Z",
     "iopub.status.idle": "2024-03-14T21:23:05.232844Z",
     "shell.execute_reply": "2024-03-14T21:23:05.231501Z",
     "shell.execute_reply.started": "2024-03-14T21:23:03.167269Z"
    },
    "tags": []
   },
   "outputs": [
    {
     "name": "stdout",
     "output_type": "stream",
     "text": [
      "gs://gvceh-03a-storage/reddit/posts/britishcolumbia_posts_data.csv\n",
      "gs://gvceh-03a-storage/xtwitter/tweets/xtwitter_tweets.csv\n"
     ]
    }
   ],
   "source": [
    "posts_path = \"reddit/posts/reddit_posts.csv\"\n",
    "posts_path = 'reddit/posts/britishcolumbia_posts_data.csv'\n",
    "# posts_path = 'reddit/posts/WestShoreBC_posts_data.csv'\n",
    "posts_file_path = \"gs://{}/{}\".format(bucket_name, posts_path)\n",
    "print(posts_file_path)\n",
    "\n",
    "df_r = pd.read_csv(filepath_or_buffer=posts_file_path)\n",
    "\n",
    "\n",
    "                   \n",
    "tweets_path = \"xtwitter/tweets/xtwitter_tweets.csv\"\n",
    "tweets_file_path = \"gs://{}/{}\".format(bucket_name, tweets_path)\n",
    "print(tweets_file_path)\n",
    "\n",
    "df_x =  pd.read_csv(filepath_or_buffer=tweets_file_path)\n",
    "                   "
   ]
  },
  {
   "cell_type": "code",
   "execution_count": 25,
   "id": "49e8ffcf-7e0c-42a4-a020-5206cf128cad",
   "metadata": {
    "execution": {
     "iopub.execute_input": "2024-03-14T21:23:06.167024Z",
     "iopub.status.busy": "2024-03-14T21:23:06.166225Z",
     "iopub.status.idle": "2024-03-14T21:23:06.183088Z",
     "shell.execute_reply": "2024-03-14T21:23:06.182476Z",
     "shell.execute_reply.started": "2024-03-14T21:23:06.166961Z"
    },
    "tags": []
   },
   "outputs": [
    {
     "data": {
      "text/html": [
       "<div>\n",
       "<style scoped>\n",
       "    .dataframe tbody tr th:only-of-type {\n",
       "        vertical-align: middle;\n",
       "    }\n",
       "\n",
       "    .dataframe tbody tr th {\n",
       "        vertical-align: top;\n",
       "    }\n",
       "\n",
       "    .dataframe thead th {\n",
       "        text-align: right;\n",
       "    }\n",
       "</style>\n",
       "<table border=\"1\" class=\"dataframe\">\n",
       "  <thead>\n",
       "    <tr style=\"text-align: right;\">\n",
       "      <th></th>\n",
       "      <th>id</th>\n",
       "      <th>created_at</th>\n",
       "      <th>scrape_time</th>\n",
       "      <th>author</th>\n",
       "      <th>subreddit</th>\n",
       "      <th>title</th>\n",
       "      <th>selftext</th>\n",
       "      <th>url</th>\n",
       "      <th>num_comments</th>\n",
       "      <th>search_term</th>\n",
       "    </tr>\n",
       "  </thead>\n",
       "  <tbody>\n",
       "    <tr>\n",
       "      <th>0</th>\n",
       "      <td>1b4tkb7</td>\n",
       "      <td>2024-03-02 17:27:25</td>\n",
       "      <td>2024-03-04 16:42:21</td>\n",
       "      <td>BarryIslandIdiot</td>\n",
       "      <td>britishcolumbia</td>\n",
       "      <td>Political Ads</td>\n",
       "      <td>Can anybody tell me what the rules are? I have...</td>\n",
       "      <td>https://www.reddit.com/r/britishcolumbia/comme...</td>\n",
       "      <td>108</td>\n",
       "      <td>substance use</td>\n",
       "    </tr>\n",
       "    <tr>\n",
       "      <th>1</th>\n",
       "      <td>1aq7doz</td>\n",
       "      <td>2024-02-13 23:02:33</td>\n",
       "      <td>2024-03-04 16:42:22</td>\n",
       "      <td>Accomplished_Try_179</td>\n",
       "      <td>britishcolumbia</td>\n",
       "      <td>B.C. rest stop seeing a surge in overnight cam...</td>\n",
       "      <td>NaN</td>\n",
       "      <td>https://youtu.be/qB9RrV6ox_0?si=qnBLryQNecJeGHuq</td>\n",
       "      <td>88</td>\n",
       "      <td>camper</td>\n",
       "    </tr>\n",
       "    <tr>\n",
       "      <th>2</th>\n",
       "      <td>1arwpb7</td>\n",
       "      <td>2024-02-16 01:48:34</td>\n",
       "      <td>2024-03-04 16:42:22</td>\n",
       "      <td>VicVicVicBC</td>\n",
       "      <td>britishcolumbia</td>\n",
       "      <td>Missing teens could be camping in woods: police</td>\n",
       "      <td>NaN</td>\n",
       "      <td>https://www.prpeak.com/highlights/missing-teen...</td>\n",
       "      <td>15</td>\n",
       "      <td>camping</td>\n",
       "    </tr>\n",
       "    <tr>\n",
       "      <th>3</th>\n",
       "      <td>1aqu0fq</td>\n",
       "      <td>2024-02-14 18:30:53</td>\n",
       "      <td>2024-03-04 16:42:23</td>\n",
       "      <td>Fair_Leadership76</td>\n",
       "      <td>britishcolumbia</td>\n",
       "      <td>RV camping in July</td>\n",
       "      <td>I’m planning a trip up from Oregon in my self ...</td>\n",
       "      <td>https://www.reddit.com/r/britishcolumbia/comme...</td>\n",
       "      <td>4</td>\n",
       "      <td>camping</td>\n",
       "    </tr>\n",
       "    <tr>\n",
       "      <th>4</th>\n",
       "      <td>1ai44is</td>\n",
       "      <td>2024-02-03 19:33:54</td>\n",
       "      <td>2024-03-04 16:42:23</td>\n",
       "      <td>CapableSecretary420</td>\n",
       "      <td>britishcolumbia</td>\n",
       "      <td>B.C. sends in excavator as eviction of Marpole...</td>\n",
       "      <td>NaN</td>\n",
       "      <td>https://vancouversun.com/news/bc-sends-in-exca...</td>\n",
       "      <td>52</td>\n",
       "      <td>camping</td>\n",
       "    </tr>\n",
       "  </tbody>\n",
       "</table>\n",
       "</div>"
      ],
      "text/plain": [
       "        id           created_at          scrape_time                author  \\\n",
       "0  1b4tkb7  2024-03-02 17:27:25  2024-03-04 16:42:21      BarryIslandIdiot   \n",
       "1  1aq7doz  2024-02-13 23:02:33  2024-03-04 16:42:22  Accomplished_Try_179   \n",
       "2  1arwpb7  2024-02-16 01:48:34  2024-03-04 16:42:22           VicVicVicBC   \n",
       "3  1aqu0fq  2024-02-14 18:30:53  2024-03-04 16:42:23     Fair_Leadership76   \n",
       "4  1ai44is  2024-02-03 19:33:54  2024-03-04 16:42:23   CapableSecretary420   \n",
       "\n",
       "         subreddit                                              title  \\\n",
       "0  britishcolumbia                                      Political Ads   \n",
       "1  britishcolumbia  B.C. rest stop seeing a surge in overnight cam...   \n",
       "2  britishcolumbia    Missing teens could be camping in woods: police   \n",
       "3  britishcolumbia                                 RV camping in July   \n",
       "4  britishcolumbia  B.C. sends in excavator as eviction of Marpole...   \n",
       "\n",
       "                                            selftext  \\\n",
       "0  Can anybody tell me what the rules are? I have...   \n",
       "1                                                NaN   \n",
       "2                                                NaN   \n",
       "3  I’m planning a trip up from Oregon in my self ...   \n",
       "4                                                NaN   \n",
       "\n",
       "                                                 url  num_comments  \\\n",
       "0  https://www.reddit.com/r/britishcolumbia/comme...           108   \n",
       "1   https://youtu.be/qB9RrV6ox_0?si=qnBLryQNecJeGHuq            88   \n",
       "2  https://www.prpeak.com/highlights/missing-teen...            15   \n",
       "3  https://www.reddit.com/r/britishcolumbia/comme...             4   \n",
       "4  https://vancouversun.com/news/bc-sends-in-exca...            52   \n",
       "\n",
       "     search_term  \n",
       "0  substance use  \n",
       "1         camper  \n",
       "2        camping  \n",
       "3        camping  \n",
       "4        camping  "
      ]
     },
     "execution_count": 25,
     "metadata": {},
     "output_type": "execute_result"
    }
   ],
   "source": [
    "df_r.head()\n",
    "# df_x.head()\n"
   ]
  },
  {
   "cell_type": "code",
   "execution_count": null,
   "id": "3dcba389-716d-479e-9bce-83a379bff670",
   "metadata": {},
   "outputs": [],
   "source": []
  },
  {
   "cell_type": "code",
   "execution_count": null,
   "id": "f4e7b89e-4821-42bc-a223-5c91e74cb91d",
   "metadata": {},
   "outputs": [],
   "source": []
  }
 ],
 "metadata": {
  "kernelspec": {
   "display_name": "Python 3 (ipykernel)",
   "language": "python",
   "name": "python3"
  },
  "language_info": {
   "codemirror_mode": {
    "name": "ipython",
    "version": 3
   },
   "file_extension": ".py",
   "mimetype": "text/x-python",
   "name": "python",
   "nbconvert_exporter": "python",
   "pygments_lexer": "ipython3",
   "version": "3.10.13"
  }
 },
 "nbformat": 4,
 "nbformat_minor": 5
}
