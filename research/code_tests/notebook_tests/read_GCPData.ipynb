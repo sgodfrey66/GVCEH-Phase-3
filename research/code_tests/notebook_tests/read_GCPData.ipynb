{
 "cells": [
  {
   "cell_type": "markdown",
   "id": "3d0cd15e-824e-476b-b389-57747f95347a",
   "metadata": {},
   "source": [
    "# Summary\n",
    "\n",
    "Test reading post/tweet data from GCP Cloud Storage."
   ]
  },
  {
   "cell_type": "markdown",
   "id": "b54d7d5e-6d6c-4a9d-85cd-a0fb4b5321ec",
   "metadata": {},
   "source": [
    "## Import libraries\n"
   ]
  },
  {
   "cell_type": "code",
   "execution_count": 1,
   "id": "ba137760-ab93-4f8c-aae2-a0db9054abb4",
   "metadata": {
    "execution": {
     "iopub.execute_input": "2024-03-20T16:34:21.792347Z",
     "iopub.status.busy": "2024-03-20T16:34:21.790358Z",
     "iopub.status.idle": "2024-03-20T16:34:22.469544Z",
     "shell.execute_reply": "2024-03-20T16:34:22.469154Z",
     "shell.execute_reply.started": "2024-03-20T16:34:21.791716Z"
    },
    "tags": []
   },
   "outputs": [],
   "source": [
    "import os, sys\n",
    "import pandas as pd\n",
    "\n",
    "from google.cloud import storage\n"
   ]
  },
  {
   "cell_type": "markdown",
   "id": "4ea4d394-39c9-46c5-b794-96b3a7a89410",
   "metadata": {},
   "source": [
    "## Read data"
   ]
  },
  {
   "cell_type": "code",
   "execution_count": 2,
   "id": "3dd958c3-056a-4e99-a427-aa937f24b460",
   "metadata": {
    "execution": {
     "iopub.execute_input": "2024-03-20T16:34:22.706797Z",
     "iopub.status.busy": "2024-03-20T16:34:22.705515Z",
     "iopub.status.idle": "2024-03-20T16:34:22.713006Z",
     "shell.execute_reply": "2024-03-20T16:34:22.712205Z",
     "shell.execute_reply.started": "2024-03-20T16:34:22.706757Z"
    },
    "tags": []
   },
   "outputs": [],
   "source": [
    "project_id = \"npaicivitas\"\n",
    "bucket_name = \"gvceh-03a-storage\"\n",
    "    \n",
    "    "
   ]
  },
  {
   "cell_type": "code",
   "execution_count": 3,
   "id": "c852d6c7-29fd-4761-97f4-47bb79d98818",
   "metadata": {
    "execution": {
     "iopub.execute_input": "2024-03-20T16:34:23.358928Z",
     "iopub.status.busy": "2024-03-20T16:34:23.358336Z",
     "iopub.status.idle": "2024-03-20T16:34:23.365915Z",
     "shell.execute_reply": "2024-03-20T16:34:23.365120Z",
     "shell.execute_reply.started": "2024-03-20T16:34:23.358892Z"
    }
   },
   "outputs": [],
   "source": [
    "## Instantiate the storage client\n",
    "# Note that the post/tweet data on GCP are currently publically available\n",
    "# which means we don't need to present credentials to read them\n"
   ]
  },
  {
   "cell_type": "code",
   "execution_count": 4,
   "id": "6dd9cb71-b614-4b12-801c-18ab38bb8099",
   "metadata": {
    "execution": {
     "iopub.execute_input": "2024-03-20T16:34:23.732657Z",
     "iopub.status.busy": "2024-03-20T16:34:23.732162Z",
     "iopub.status.idle": "2024-03-20T16:34:23.754926Z",
     "shell.execute_reply": "2024-03-20T16:34:23.754380Z",
     "shell.execute_reply.started": "2024-03-20T16:34:23.732630Z"
    },
    "tags": []
   },
   "outputs": [],
   "source": [
    "storage_client = storage.Client(project=project_id)"
   ]
  },
  {
   "cell_type": "code",
   "execution_count": 5,
   "id": "cdc2235e-d0a5-4a1c-9ac4-8b6da818dad4",
   "metadata": {
    "execution": {
     "iopub.execute_input": "2024-03-20T16:34:24.171320Z",
     "iopub.status.busy": "2024-03-20T16:34:24.170669Z",
     "iopub.status.idle": "2024-03-20T16:34:24.851549Z",
     "shell.execute_reply": "2024-03-20T16:34:24.850211Z",
     "shell.execute_reply.started": "2024-03-20T16:34:24.171285Z"
    },
    "tags": []
   },
   "outputs": [],
   "source": [
    "file_list = storage_client.list_blobs(bucket_or_name=bucket_name)\n",
    "file_list_names = [file.name for file in file_list]\n",
    "    "
   ]
  },
  {
   "cell_type": "markdown",
   "id": "c01cb018-bab5-4396-a263-055800cb1482",
   "metadata": {},
   "source": [
    "## Look at file names\n",
    "Note logs may be out of date\n"
   ]
  },
  {
   "cell_type": "code",
   "execution_count": 6,
   "id": "4ef0f078-2c5a-4bd6-be32-56b467aaabe7",
   "metadata": {
    "execution": {
     "iopub.execute_input": "2024-03-20T16:34:25.037439Z",
     "iopub.status.busy": "2024-03-20T16:34:25.036839Z",
     "iopub.status.idle": "2024-03-20T16:34:25.047656Z",
     "shell.execute_reply": "2024-03-20T16:34:25.046848Z",
     "shell.execute_reply.started": "2024-03-20T16:34:25.037402Z"
    },
    "tags": []
   },
   "outputs": [
    {
     "data": {
      "text/plain": [
       "['keywords/',\n",
       " 'keywords/hashtags_other.csv',\n",
       " 'keywords/keywords.csv',\n",
       " 'keywords/subreddits.csv',\n",
       " 'reddit/',\n",
       " 'reddit/posts/',\n",
       " 'reddit/posts/Esquimalt_posts_data.csv',\n",
       " 'reddit/posts/Metchosin_posts_data.csv',\n",
       " 'reddit/posts/OakBayBritishColumbia_posts_data.csv',\n",
       " 'reddit/posts/SaanichPeninsula_posts_data.csv',\n",
       " 'reddit/posts/SidneyBC_posts_data.csv',\n",
       " 'reddit/posts/Sooke_posts_data.csv',\n",
       " 'reddit/posts/VancouverIsland_posts_data.csv',\n",
       " 'reddit/posts/WestShoreBC_posts_data.csv',\n",
       " 'reddit/posts/britishcolumbia_posts_data.csv',\n",
       " 'reddit/posts/reddit_posts.csv',\n",
       " 'reddit/posts/saltspring_posts_data.csv',\n",
       " 'reddit/posts/uvic_posts_data.csv',\n",
       " 'xtwitter/',\n",
       " 'xtwitter/tweets/',\n",
       " 'xtwitter/tweets/xtwitter_tweets.csv']"
      ]
     },
     "execution_count": 6,
     "metadata": {},
     "output_type": "execute_result"
    }
   ],
   "source": [
    "file_list_names"
   ]
  },
  {
   "cell_type": "markdown",
   "id": "d4231d4a-a5db-4a7f-bc82-cda14397862e",
   "metadata": {},
   "source": [
    "## Read data"
   ]
  },
  {
   "cell_type": "code",
   "execution_count": 7,
   "id": "d5b19fb4-9c53-427e-aaaf-b34671814804",
   "metadata": {
    "execution": {
     "iopub.execute_input": "2024-03-20T16:34:26.614719Z",
     "iopub.status.busy": "2024-03-20T16:34:26.614297Z",
     "iopub.status.idle": "2024-03-20T16:34:28.180805Z",
     "shell.execute_reply": "2024-03-20T16:34:28.179854Z",
     "shell.execute_reply.started": "2024-03-20T16:34:26.614690Z"
    },
    "tags": []
   },
   "outputs": [
    {
     "name": "stdout",
     "output_type": "stream",
     "text": [
      "gs://gvceh-03a-storage/reddit/posts/reddit_posts.csv\n",
      "gs://gvceh-03a-storage/xtwitter/tweets/xtwitter_tweets.csv\n"
     ]
    }
   ],
   "source": [
    "# Reddit posts data\n",
    "posts_path = \"reddit/posts/reddit_posts.csv\"\n",
    "posts_file_path = \"gs://{}/{}\".format(bucket_name, posts_path)\n",
    "print(posts_file_path)\n",
    "\n",
    "df_r = pd.read_csv(filepath_or_buffer=posts_file_path)\n",
    "\n",
    "\n",
    "# X Tweets data                  \n",
    "tweets_path = \"xtwitter/tweets/xtwitter_tweets.csv\"\n",
    "tweets_file_path = \"gs://{}/{}\".format(bucket_name, tweets_path)\n",
    "print(tweets_file_path)\n",
    "\n",
    "df_x =  pd.read_csv(filepath_or_buffer=tweets_file_path)\n",
    "                   "
   ]
  },
  {
   "cell_type": "code",
   "execution_count": 8,
   "id": "49e8ffcf-7e0c-42a4-a020-5206cf128cad",
   "metadata": {
    "execution": {
     "iopub.execute_input": "2024-03-20T16:34:34.375779Z",
     "iopub.status.busy": "2024-03-20T16:34:34.374790Z",
     "iopub.status.idle": "2024-03-20T16:34:34.395763Z",
     "shell.execute_reply": "2024-03-20T16:34:34.394947Z",
     "shell.execute_reply.started": "2024-03-20T16:34:34.375724Z"
    },
    "tags": []
   },
   "outputs": [
    {
     "data": {
      "text/html": [
       "<div>\n",
       "<style scoped>\n",
       "    .dataframe tbody tr th:only-of-type {\n",
       "        vertical-align: middle;\n",
       "    }\n",
       "\n",
       "    .dataframe tbody tr th {\n",
       "        vertical-align: top;\n",
       "    }\n",
       "\n",
       "    .dataframe thead th {\n",
       "        text-align: right;\n",
       "    }\n",
       "</style>\n",
       "<table border=\"1\" class=\"dataframe\">\n",
       "  <thead>\n",
       "    <tr style=\"text-align: right;\">\n",
       "      <th></th>\n",
       "      <th>index</th>\n",
       "      <th>tweet_id</th>\n",
       "      <th>created_at</th>\n",
       "      <th>text</th>\n",
       "      <th>scrape_time</th>\n",
       "      <th>reply_count</th>\n",
       "      <th>quote_count</th>\n",
       "      <th>like_count</th>\n",
       "      <th>retweet_count</th>\n",
       "      <th>geo_full_name</th>\n",
       "      <th>geo_id</th>\n",
       "      <th>username</th>\n",
       "      <th>user_location</th>\n",
       "      <th>num_followers</th>\n",
       "      <th>query</th>\n",
       "      <th>search_hashtag_other</th>\n",
       "    </tr>\n",
       "  </thead>\n",
       "  <tbody>\n",
       "    <tr>\n",
       "      <th>0</th>\n",
       "      <td>0</td>\n",
       "      <td>1764872442546466911</td>\n",
       "      <td>2024-03-05 04:35:54+00:00</td>\n",
       "      <td>@Slammer582 @CHEK_News It’s not convenient tim...</td>\n",
       "      <td>2024-03-05 08:49:16.176523</td>\n",
       "      <td>1</td>\n",
       "      <td>0</td>\n",
       "      <td>0</td>\n",
       "      <td>0</td>\n",
       "      <td>NaN</td>\n",
       "      <td>NaN</td>\n",
       "      <td>MunicipalFly</td>\n",
       "      <td>Victoria, British Columbia</td>\n",
       "      <td>513</td>\n",
       "      <td>(#victoriabc) (housing insecure OR encampment ...</td>\n",
       "      <td>#victoriabc</td>\n",
       "    </tr>\n",
       "    <tr>\n",
       "      <th>1</th>\n",
       "      <td>1</td>\n",
       "      <td>1764751689796419741</td>\n",
       "      <td>2024-03-04 20:36:05+00:00</td>\n",
       "      <td>We would love to sell your home next!  \\n\\nhtt...</td>\n",
       "      <td>2024-03-05 08:49:16.176816</td>\n",
       "      <td>0</td>\n",
       "      <td>0</td>\n",
       "      <td>0</td>\n",
       "      <td>0</td>\n",
       "      <td>NaN</td>\n",
       "      <td>NaN</td>\n",
       "      <td>prefhomes</td>\n",
       "      <td>Victoria, BC</td>\n",
       "      <td>173</td>\n",
       "      <td>(#victoriabc) (housing insecure OR encampment ...</td>\n",
       "      <td>#victoriabc</td>\n",
       "    </tr>\n",
       "    <tr>\n",
       "      <th>2</th>\n",
       "      <td>2</td>\n",
       "      <td>1764736589614239829</td>\n",
       "      <td>2024-03-04 19:36:04+00:00</td>\n",
       "      <td>We would love to sell your home next!  \\n\\nhtt...</td>\n",
       "      <td>2024-03-05 08:49:16.176844</td>\n",
       "      <td>0</td>\n",
       "      <td>0</td>\n",
       "      <td>0</td>\n",
       "      <td>0</td>\n",
       "      <td>NaN</td>\n",
       "      <td>NaN</td>\n",
       "      <td>DominiqueBandet</td>\n",
       "      <td>NaN</td>\n",
       "      <td>130</td>\n",
       "      <td>(#victoriabc) (housing insecure OR encampment ...</td>\n",
       "      <td>#victoriabc</td>\n",
       "    </tr>\n",
       "    <tr>\n",
       "      <th>3</th>\n",
       "      <td>3</td>\n",
       "      <td>1764727630555742304</td>\n",
       "      <td>2024-03-04 19:00:28+00:00</td>\n",
       "      <td>RT @VicBuilders: \"the benchmark single-family ...</td>\n",
       "      <td>2024-03-05 08:49:16.176876</td>\n",
       "      <td>0</td>\n",
       "      <td>0</td>\n",
       "      <td>0</td>\n",
       "      <td>0</td>\n",
       "      <td>NaN</td>\n",
       "      <td>NaN</td>\n",
       "      <td>VicBuilders</td>\n",
       "      <td>Victoria, BC</td>\n",
       "      <td>5118</td>\n",
       "      <td>(#victoriabc) (housing insecure OR encampment ...</td>\n",
       "      <td>#victoriabc</td>\n",
       "    </tr>\n",
       "    <tr>\n",
       "      <th>4</th>\n",
       "      <td>4</td>\n",
       "      <td>1764722951080022479</td>\n",
       "      <td>2024-03-04 18:41:53+00:00</td>\n",
       "      <td>\"the benchmark single-family price in most of ...</td>\n",
       "      <td>2024-03-05 08:49:16.176929</td>\n",
       "      <td>0</td>\n",
       "      <td>1</td>\n",
       "      <td>0</td>\n",
       "      <td>0</td>\n",
       "      <td>NaN</td>\n",
       "      <td>NaN</td>\n",
       "      <td>Vichomeowner</td>\n",
       "      <td>Victoria, British Columbia</td>\n",
       "      <td>110</td>\n",
       "      <td>(#victoriabc) (housing insecure OR encampment ...</td>\n",
       "      <td>#victoriabc</td>\n",
       "    </tr>\n",
       "  </tbody>\n",
       "</table>\n",
       "</div>"
      ],
      "text/plain": [
       "   index             tweet_id                 created_at  \\\n",
       "0      0  1764872442546466911  2024-03-05 04:35:54+00:00   \n",
       "1      1  1764751689796419741  2024-03-04 20:36:05+00:00   \n",
       "2      2  1764736589614239829  2024-03-04 19:36:04+00:00   \n",
       "3      3  1764727630555742304  2024-03-04 19:00:28+00:00   \n",
       "4      4  1764722951080022479  2024-03-04 18:41:53+00:00   \n",
       "\n",
       "                                                text  \\\n",
       "0  @Slammer582 @CHEK_News It’s not convenient tim...   \n",
       "1  We would love to sell your home next!  \\n\\nhtt...   \n",
       "2  We would love to sell your home next!  \\n\\nhtt...   \n",
       "3  RT @VicBuilders: \"the benchmark single-family ...   \n",
       "4  \"the benchmark single-family price in most of ...   \n",
       "\n",
       "                  scrape_time  reply_count  quote_count  like_count  \\\n",
       "0  2024-03-05 08:49:16.176523            1            0           0   \n",
       "1  2024-03-05 08:49:16.176816            0            0           0   \n",
       "2  2024-03-05 08:49:16.176844            0            0           0   \n",
       "3  2024-03-05 08:49:16.176876            0            0           0   \n",
       "4  2024-03-05 08:49:16.176929            0            1           0   \n",
       "\n",
       "   retweet_count geo_full_name geo_id         username  \\\n",
       "0              0           NaN    NaN     MunicipalFly   \n",
       "1              0           NaN    NaN        prefhomes   \n",
       "2              0           NaN    NaN  DominiqueBandet   \n",
       "3              0           NaN    NaN      VicBuilders   \n",
       "4              0           NaN    NaN     Vichomeowner   \n",
       "\n",
       "                user_location  num_followers  \\\n",
       "0  Victoria, British Columbia            513   \n",
       "1                Victoria, BC            173   \n",
       "2                         NaN            130   \n",
       "3                Victoria, BC           5118   \n",
       "4  Victoria, British Columbia            110   \n",
       "\n",
       "                                               query search_hashtag_other  \n",
       "0  (#victoriabc) (housing insecure OR encampment ...          #victoriabc  \n",
       "1  (#victoriabc) (housing insecure OR encampment ...          #victoriabc  \n",
       "2  (#victoriabc) (housing insecure OR encampment ...          #victoriabc  \n",
       "3  (#victoriabc) (housing insecure OR encampment ...          #victoriabc  \n",
       "4  (#victoriabc) (housing insecure OR encampment ...          #victoriabc  "
      ]
     },
     "execution_count": 8,
     "metadata": {},
     "output_type": "execute_result"
    }
   ],
   "source": [
    "df_r.head()\n",
    "df_x.head()\n"
   ]
  },
  {
   "cell_type": "code",
   "execution_count": null,
   "id": "62dae036-f881-469f-a581-63bf44cdb8e4",
   "metadata": {},
   "outputs": [],
   "source": []
  }
 ],
 "metadata": {
  "kernelspec": {
   "display_name": "Python 3 (ipykernel)",
   "language": "python",
   "name": "python3"
  },
  "language_info": {
   "codemirror_mode": {
    "name": "ipython",
    "version": 3
   },
   "file_extension": ".py",
   "mimetype": "text/x-python",
   "name": "python",
   "nbconvert_exporter": "python",
   "pygments_lexer": "ipython3",
   "version": "3.11.8"
  }
 },
 "nbformat": 4,
 "nbformat_minor": 5
}
